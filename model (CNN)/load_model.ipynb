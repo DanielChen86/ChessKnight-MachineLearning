{
 "metadata": {
  "language_info": {
   "codemirror_mode": {
    "name": "ipython",
    "version": 3
   },
   "file_extension": ".py",
   "mimetype": "text/x-python",
   "name": "python",
   "nbconvert_exporter": "python",
   "pygments_lexer": "ipython3",
   "version": "3.8.3-final"
  },
  "orig_nbformat": 2,
  "kernelspec": {
   "name": "python3",
   "display_name": "Python 3.8.3 64-bit",
   "metadata": {
    "interpreter": {
     "hash": "aee8b7b246df8f9039afb4144a1f6fd8d2ca17a180786b69acc140d282b71a49"
    }
   }
  }
 },
 "nbformat": 4,
 "nbformat_minor": 2,
 "cells": [
  {
   "cell_type": "code",
   "execution_count": 1,
   "metadata": {},
   "outputs": [],
   "source": [
    "import numpy as np\n",
    "import pandas as pd\n",
    "import matplotlib.pyplot as plt\n",
    "import pickle\n",
    "import tensorflow as tf\n",
    "model=tf.keras.models.load_model('model (CNN).h5',compile=False)"
   ]
  },
  {
   "cell_type": "code",
   "execution_count": 2,
   "metadata": {},
   "outputs": [
    {
     "output_type": "stream",
     "name": "stdout",
     "text": [
      "Model: \"sequential\"\n_________________________________________________________________\nLayer (type)                 Output Shape              Param #   \n=================================================================\nconv2d (Conv2D)              (None, 10, 10, 32)        320       \n_________________________________________________________________\nflatten (Flatten)            (None, 3200)              0         \n_________________________________________________________________\ndense (Dense)                (None, 256)               819456    \n_________________________________________________________________\ndense_1 (Dense)              (None, 42)                10794     \n=================================================================\nTotal params: 830,570\nTrainable params: 830,570\nNon-trainable params: 0\n_________________________________________________________________\n"
     ]
    }
   ],
   "source": [
    "model.summary()"
   ]
  },
  {
   "cell_type": "code",
   "execution_count": 3,
   "metadata": {},
   "outputs": [],
   "source": [
    "data=pd.read_csv('../ChessKnight.csv').values\n",
    "data=np.unique(data,axis=0)\n",
    "len_all=len(data)\n",
    "permu=np.random.permutation(len_all)\n",
    "data=data[permu]\n",
    "len_all=int(0.2*len_all)\n",
    "data=data[:len_all]\n",
    "\n",
    "x_test=np.zeros((len_all,12,12))\n",
    "index=((np.tile(np.arange(len_all),4)),(np.concatenate([data[:,0],data[:,2],data[:,4],data[:,6]])),(np.concatenate([data[:,1],data[:,3],data[:,5],data[:,7]])))\n",
    "x_test[index]=1.\n",
    "\n",
    "x_test=np.expand_dims(x_test,axis=3)\n",
    "t_test=data[:,8]\n",
    "t_test=np.eye(t_test.max()+1)[t_test]"
   ]
  },
  {
   "cell_type": "code",
   "execution_count": 4,
   "metadata": {},
   "outputs": [
    {
     "output_type": "execute_result",
     "data": {
      "text/plain": [
       "array([20, 15, 22, ..., 29, 22, 20])"
      ]
     },
     "metadata": {},
     "execution_count": 4
    }
   ],
   "source": [
    "predicted_pre=model.predict(x_test)\n",
    "predicted=predicted_pre.argmax(axis=1)\n",
    "predicted"
   ]
  },
  {
   "cell_type": "code",
   "execution_count": 5,
   "metadata": {},
   "outputs": [
    {
     "output_type": "execute_result",
     "data": {
      "text/plain": [
       "array([20, 16, 21, ..., 30, 23, 20])"
      ]
     },
     "metadata": {},
     "execution_count": 5
    }
   ],
   "source": [
    "t_test.argmax(axis=1)"
   ]
  },
  {
   "cell_type": "code",
   "execution_count": 7,
   "metadata": {},
   "outputs": [
    {
     "output_type": "execute_result",
     "data": {
      "text/plain": [
       "0.9766469222764749"
      ]
     },
     "metadata": {},
     "execution_count": 7
    }
   ],
   "source": [
    "(np.abs(predicted-t_test.argmax(axis=1))<=1).sum()/len(t_test)"
   ]
  },
  {
   "cell_type": "code",
   "execution_count": null,
   "metadata": {},
   "outputs": [],
   "source": []
  }
 ]
}