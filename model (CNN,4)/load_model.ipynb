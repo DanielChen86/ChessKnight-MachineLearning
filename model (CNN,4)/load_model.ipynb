{
 "metadata": {
  "language_info": {
   "codemirror_mode": {
    "name": "ipython",
    "version": 3
   },
   "file_extension": ".py",
   "mimetype": "text/x-python",
   "name": "python",
   "nbconvert_exporter": "python",
   "pygments_lexer": "ipython3",
   "version": "3.8.3-final"
  },
  "orig_nbformat": 2,
  "kernelspec": {
   "name": "python3",
   "display_name": "Python 3.8.3 64-bit",
   "metadata": {
    "interpreter": {
     "hash": "aee8b7b246df8f9039afb4144a1f6fd8d2ca17a180786b69acc140d282b71a49"
    }
   }
  }
 },
 "nbformat": 4,
 "nbformat_minor": 2,
 "cells": [
  {
   "cell_type": "code",
   "execution_count": 1,
   "metadata": {},
   "outputs": [],
   "source": [
    "import numpy as np\n",
    "import pandas as pd\n",
    "import matplotlib.pyplot as plt\n",
    "import pickle\n",
    "import tensorflow as tf\n",
    "model=tf.keras.models.load_model('model (CNN,4).h5',compile=False)"
   ]
  },
  {
   "cell_type": "code",
   "execution_count": 2,
   "metadata": {},
   "outputs": [
    {
     "output_type": "stream",
     "name": "stdout",
     "text": [
      "Model: \"sequential\"\n_________________________________________________________________\nLayer (type)                 Output Shape              Param #   \n=================================================================\nconv2d (Conv2D)              (None, 10, 10, 32)        1184      \n_________________________________________________________________\nflatten (Flatten)            (None, 3200)              0         \n_________________________________________________________________\ndense (Dense)                (None, 256)               819456    \n_________________________________________________________________\ndense_1 (Dense)              (None, 42)                10794     \n=================================================================\nTotal params: 831,434\nTrainable params: 831,434\nNon-trainable params: 0\n_________________________________________________________________\n"
     ]
    }
   ],
   "source": [
    "model.summary()"
   ]
  },
  {
   "cell_type": "code",
   "execution_count": 3,
   "metadata": {},
   "outputs": [],
   "source": [
    "data=pd.read_csv('../ChessKnight.csv').values\n",
    "data=np.unique(data,axis=0)\n",
    "len_all=len(data)\n",
    "permu=np.random.permutation(len_all)\n",
    "data=data[permu]"
   ]
  },
  {
   "cell_type": "code",
   "execution_count": 4,
   "metadata": {},
   "outputs": [],
   "source": [
    "x_all=np.zeros((len_all,12,12,4))\n",
    "index=((np.tile(np.arange(len_all),4)),(np.concatenate([data[:,0],data[:,2],data[:,4],data[:,6]])),(np.concatenate([data[:,1],data[:,3],data[:,5],data[:,7]])),(np.concatenate([np.full(len_all,0),np.full(len_all,1),np.full(len_all,2),np.full(len_all,3)])))\n",
    "x_all[index]=1.\n",
    "\n",
    "t_all=data[:,8]\n",
    "t_all=np.eye(t_all.max()+1)[t_all]"
   ]
  },
  {
   "cell_type": "code",
   "execution_count": 5,
   "metadata": {},
   "outputs": [],
   "source": [
    "cuts=(0.7,0.85)\n",
    "x_train=x_all[:int(cuts[0]*len_all)]\n",
    "t_train=t_all[:int(cuts[0]*len_all)]\n",
    "x_val=x_all[int(cuts[0]*len_all):int(cuts[1]*len_all)]\n",
    "t_val=t_all[int(cuts[0]*len_all):int(cuts[1]*len_all)]\n",
    "x_test=x_all[int(cuts[1]*len_all):]\n",
    "t_test=t_all[int(cuts[1]*len_all):]"
   ]
  },
  {
   "cell_type": "code",
   "execution_count": 6,
   "metadata": {},
   "outputs": [
    {
     "output_type": "execute_result",
     "data": {
      "text/plain": [
       "array([31, 26, 24, ..., 17, 20, 27])"
      ]
     },
     "metadata": {},
     "execution_count": 6
    }
   ],
   "source": [
    "predicted_pre=model.predict(x_test)\n",
    "predicted=predicted_pre.argmax(axis=1)\n",
    "predicted"
   ]
  },
  {
   "cell_type": "code",
   "execution_count": 7,
   "metadata": {},
   "outputs": [
    {
     "output_type": "execute_result",
     "data": {
      "text/plain": [
       "array([31, 26, 23, ..., 17, 20, 27])"
      ]
     },
     "metadata": {},
     "execution_count": 7
    }
   ],
   "source": [
    "t_test.argmax(axis=1)"
   ]
  },
  {
   "cell_type": "code",
   "execution_count": 8,
   "metadata": {},
   "outputs": [
    {
     "output_type": "execute_result",
     "data": {
      "text/plain": [
       "0.9822036046372017"
      ]
     },
     "metadata": {},
     "execution_count": 8
    }
   ],
   "source": [
    "(np.abs(predicted-t_test.argmax(axis=1))<=1).sum()/len(t_test)"
   ]
  },
  {
   "cell_type": "code",
   "execution_count": null,
   "metadata": {},
   "outputs": [],
   "source": []
  }
 ]
}