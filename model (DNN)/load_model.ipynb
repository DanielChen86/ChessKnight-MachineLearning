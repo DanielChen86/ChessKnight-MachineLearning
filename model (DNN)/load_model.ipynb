{
 "metadata": {
  "language_info": {
   "codemirror_mode": {
    "name": "ipython",
    "version": 3
   },
   "file_extension": ".py",
   "mimetype": "text/x-python",
   "name": "python",
   "nbconvert_exporter": "python",
   "pygments_lexer": "ipython3",
   "version": "3.8.3-final"
  },
  "orig_nbformat": 2,
  "kernelspec": {
   "name": "python3",
   "display_name": "Python 3.8.3 64-bit",
   "metadata": {
    "interpreter": {
     "hash": "aee8b7b246df8f9039afb4144a1f6fd8d2ca17a180786b69acc140d282b71a49"
    }
   }
  }
 },
 "nbformat": 4,
 "nbformat_minor": 2,
 "cells": [
  {
   "cell_type": "code",
   "execution_count": 1,
   "metadata": {},
   "outputs": [],
   "source": [
    "import numpy as np\n",
    "import pandas as pd\n",
    "import matplotlib.pyplot as plt\n",
    "import pickle\n",
    "import tensorflow as tf\n",
    "model=tf.keras.models.load_model('model (DNN).h5',compile=False)"
   ]
  },
  {
   "cell_type": "code",
   "execution_count": 2,
   "metadata": {},
   "outputs": [
    {
     "output_type": "stream",
     "name": "stdout",
     "text": [
      "Model: \"sequential\"\n_________________________________________________________________\nLayer (type)                 Output Shape              Param #   \n=================================================================\ndense (Dense)                (None, 60)                540       \n_________________________________________________________________\ndense_1 (Dense)              (None, 80)                4880      \n_________________________________________________________________\nbatch_normalization (BatchNo (None, 80)                320       \n_________________________________________________________________\ndense_2 (Dense)              (None, 60)                4860      \n_________________________________________________________________\ndense_3 (Dense)              (None, 42)                2562      \n=================================================================\nTotal params: 13,162\nTrainable params: 13,002\nNon-trainable params: 160\n_________________________________________________________________\n"
     ]
    }
   ],
   "source": [
    "model.summary()"
   ]
  },
  {
   "cell_type": "code",
   "execution_count": 3,
   "metadata": {},
   "outputs": [],
   "source": [
    "data=pd.read_csv('../ChessKnight.csv').values\n",
    "data=np.unique(data,axis=0)\n",
    "len_all=len(data)\n",
    "permu=np.random.permutation(len_all)\n",
    "data=data[permu]\n",
    "\n",
    "x_test=data[:int(0.2*len_all),:8]\n",
    "t_test=data[:int(0.2*len_all),8]\n",
    "t_test=np.eye(t_test.max()+1)[t_test]"
   ]
  },
  {
   "cell_type": "code",
   "execution_count": 4,
   "metadata": {},
   "outputs": [
    {
     "output_type": "execute_result",
     "data": {
      "text/plain": [
       "array([24, 30, 24, ..., 24, 26, 22])"
      ]
     },
     "metadata": {},
     "execution_count": 4
    }
   ],
   "source": [
    "predicted_pre=model.predict(x_test)\n",
    "predicted=predicted_pre.argmax(axis=1)\n",
    "predicted"
   ]
  },
  {
   "cell_type": "code",
   "execution_count": 5,
   "metadata": {},
   "outputs": [
    {
     "output_type": "execute_result",
     "data": {
      "text/plain": [
       "array([25, 30, 23, ..., 24, 27, 22])"
      ]
     },
     "metadata": {},
     "execution_count": 5
    }
   ],
   "source": [
    "t_test.argmax(axis=1)"
   ]
  },
  {
   "cell_type": "code",
   "execution_count": 6,
   "metadata": {},
   "outputs": [
    {
     "output_type": "execute_result",
     "data": {
      "text/plain": [
       "0.8654346434003042"
      ]
     },
     "metadata": {},
     "execution_count": 6
    }
   ],
   "source": [
    "(np.abs(predicted-t_test.argmax(axis=1))<=2).sum()/len(t_test)"
   ]
  },
  {
   "cell_type": "code",
   "execution_count": null,
   "metadata": {},
   "outputs": [],
   "source": []
  }
 ]
}