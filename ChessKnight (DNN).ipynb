{
 "metadata": {
  "language_info": {
   "codemirror_mode": {
    "name": "ipython",
    "version": 3
   },
   "file_extension": ".py",
   "mimetype": "text/x-python",
   "name": "python",
   "nbconvert_exporter": "python",
   "pygments_lexer": "ipython3",
   "version": "3.8.3-final"
  },
  "orig_nbformat": 2,
  "kernelspec": {
   "name": "python3",
   "display_name": "Python 3.8.3 64-bit",
   "metadata": {
    "interpreter": {
     "hash": "aee8b7b246df8f9039afb4144a1f6fd8d2ca17a180786b69acc140d282b71a49"
    }
   }
  }
 },
 "nbformat": 4,
 "nbformat_minor": 2,
 "cells": [
  {
   "cell_type": "code",
   "execution_count": 1,
   "metadata": {},
   "outputs": [],
   "source": [
    "import numpy as np\n",
    "import pandas as pd\n",
    "import matplotlib.pyplot as plt\n",
    "import pickle\n",
    "import tensorflow as tf"
   ]
  },
  {
   "cell_type": "code",
   "execution_count": 2,
   "metadata": {},
   "outputs": [
    {
     "output_type": "execute_result",
     "data": {
      "text/plain": [
       "499723"
      ]
     },
     "metadata": {},
     "execution_count": 2
    }
   ],
   "source": [
    "data=pd.read_csv('./ChessKnight.csv',header=None).values\n",
    "data=np.unique(data,axis=0)\n",
    "x_all=data[:,:8]\n",
    "t_all=data[:,8]\n",
    "t_all=np.eye(t_all.max()+1)[t_all]\n",
    "len_all=len(x_all)\n",
    "len_all"
   ]
  },
  {
   "cell_type": "code",
   "execution_count": 3,
   "metadata": {},
   "outputs": [
    {
     "output_type": "execute_result",
     "data": {
      "text/plain": [
       "0.3528595632278979"
      ]
     },
     "metadata": {},
     "execution_count": 3
    }
   ],
   "source": [
    "permu=np.random.permutation(len_all)\n",
    "x_all=x_all[permu]\n",
    "t_all=t_all[permu]\n",
    "cuts=(0.7,0.85)\n",
    "x_train=x_all[:int(cuts[0]*len_all)]\n",
    "t_train=t_all[:int(cuts[0]*len_all)]\n",
    "x_val=x_all[int(cuts[0]*len_all):int(cuts[1]*len_all)]\n",
    "t_val=t_all[int(cuts[0]*len_all):int(cuts[1]*len_all)]\n",
    "x_test=x_all[int(cuts[1]*len_all):]\n",
    "t_test=t_all[int(cuts[1]*len_all):]\n",
    "(np.abs(np.full(len(t_test),data[:,8].mean())-t_test.argmax(axis=1))<=2).sum()/len(t_test)"
   ]
  },
  {
   "cell_type": "code",
   "execution_count": 4,
   "metadata": {},
   "outputs": [],
   "source": [
    "model=tf.keras.Sequential()\n",
    "model.add(tf.keras.layers.Dense(60,activation='relu',input_shape=(x_all.shape[1],)))\n",
    "model.add(tf.keras.layers.Dense(80,activation='relu'))\n",
    "model.add(tf.keras.layers.BatchNormalization())\n",
    "model.add(tf.keras.layers.Dense(60,activation='sigmoid'))\n",
    "model.add(tf.keras.layers.Dense(t_all.shape[1],activation='softmax'))\n",
    "\n",
    "model.compile(optimizer=tf.keras.optimizers.Adam(0.001),loss=tf.keras.losses.CategoricalCrossentropy(),metrics=[tf.keras.losses.CategoricalCrossentropy()]) # Adam(0.001)/CategoricalCrossentropy"
   ]
  },
  {
   "cell_type": "code",
   "execution_count": 5,
   "metadata": {},
   "outputs": [
    {
     "output_type": "stream",
     "name": "stdout",
     "text": [
      "Epoch 1/60\n",
      "101/101 [==============================] - 1s 11ms/step - loss: 2.9776 - categorical_crossentropy: 2.9728 - val_loss: 3.5106 - val_categorical_crossentropy: 3.5097\n",
      "Epoch 2/60\n",
      "101/101 [==============================] - 1s 9ms/step - loss: 2.2429 - categorical_crossentropy: 2.2464 - val_loss: 3.1018 - val_categorical_crossentropy: 3.1009\n",
      "Epoch 3/60\n",
      "101/101 [==============================] - 1s 10ms/step - loss: 2.1152 - categorical_crossentropy: 2.1162 - val_loss: 2.5229 - val_categorical_crossentropy: 2.5225\n",
      "Epoch 4/60\n",
      "101/101 [==============================] - 1s 11ms/step - loss: 2.0539 - categorical_crossentropy: 2.0519 - val_loss: 2.1575 - val_categorical_crossentropy: 2.1574\n",
      "Epoch 5/60\n",
      "101/101 [==============================] - 1s 13ms/step - loss: 2.0176 - categorical_crossentropy: 2.0184 - val_loss: 2.0407 - val_categorical_crossentropy: 2.0406\n",
      "Epoch 6/60\n",
      "101/101 [==============================] - 1s 12ms/step - loss: 2.0009 - categorical_crossentropy: 2.0003 - val_loss: 2.0149 - val_categorical_crossentropy: 2.0151\n",
      "Epoch 7/60\n",
      "101/101 [==============================] - 1s 12ms/step - loss: 1.9897 - categorical_crossentropy: 1.9879 - val_loss: 2.0097 - val_categorical_crossentropy: 2.0095\n",
      "Epoch 8/60\n",
      "101/101 [==============================] - 1s 12ms/step - loss: 1.9721 - categorical_crossentropy: 1.9793 - val_loss: 1.9647 - val_categorical_crossentropy: 1.9647\n",
      "Epoch 9/60\n",
      "101/101 [==============================] - 2s 15ms/step - loss: 1.9640 - categorical_crossentropy: 1.9636 - val_loss: 1.9812 - val_categorical_crossentropy: 1.9812\n",
      "Epoch 10/60\n",
      "101/101 [==============================] - 2s 15ms/step - loss: 1.9583 - categorical_crossentropy: 1.9600 - val_loss: 1.9690 - val_categorical_crossentropy: 1.9691\n",
      "Epoch 11/60\n",
      "101/101 [==============================] - 2s 16ms/step - loss: 1.9584 - categorical_crossentropy: 1.9558 - val_loss: 1.9827 - val_categorical_crossentropy: 1.9823\n",
      "Epoch 12/60\n",
      "101/101 [==============================] - 1s 15ms/step - loss: 1.9519 - categorical_crossentropy: 1.9498 - val_loss: 1.9472 - val_categorical_crossentropy: 1.9473\n",
      "Epoch 13/60\n",
      "101/101 [==============================] - 2s 17ms/step - loss: 1.9414 - categorical_crossentropy: 1.9455 - val_loss: 1.9525 - val_categorical_crossentropy: 1.9526\n",
      "Epoch 14/60\n",
      "101/101 [==============================] - 2s 17ms/step - loss: 1.9480 - categorical_crossentropy: 1.9441 - val_loss: 1.9416 - val_categorical_crossentropy: 1.9417\n",
      "Epoch 15/60\n",
      "101/101 [==============================] - 2s 17ms/step - loss: 1.9353 - categorical_crossentropy: 1.9341 - val_loss: 1.9348 - val_categorical_crossentropy: 1.9348\n",
      "Epoch 16/60\n",
      "101/101 [==============================] - 1s 14ms/step - loss: 1.9324 - categorical_crossentropy: 1.9416 - val_loss: 1.9307 - val_categorical_crossentropy: 1.9307\n",
      "Epoch 17/60\n",
      "101/101 [==============================] - 2s 19ms/step - loss: 1.9298 - categorical_crossentropy: 1.9389 - val_loss: 1.9782 - val_categorical_crossentropy: 1.9782\n",
      "Epoch 18/60\n",
      "101/101 [==============================] - 2s 17ms/step - loss: 1.9296 - categorical_crossentropy: 1.9273 - val_loss: 1.9346 - val_categorical_crossentropy: 1.9345\n",
      "Epoch 19/60\n",
      "101/101 [==============================] - 2s 18ms/step - loss: 1.9258 - categorical_crossentropy: 1.9267 - val_loss: 1.9314 - val_categorical_crossentropy: 1.9315\n",
      "Epoch 20/60\n",
      "101/101 [==============================] - 2s 18ms/step - loss: 1.9288 - categorical_crossentropy: 1.9433 - val_loss: 1.9286 - val_categorical_crossentropy: 1.9287\n",
      "Epoch 21/60\n",
      "101/101 [==============================] - 2s 20ms/step - loss: 1.9304 - categorical_crossentropy: 1.9301 - val_loss: 1.9246 - val_categorical_crossentropy: 1.9244\n",
      "Epoch 22/60\n",
      "101/101 [==============================] - 2s 19ms/step - loss: 1.9222 - categorical_crossentropy: 1.9292 - val_loss: 1.9485 - val_categorical_crossentropy: 1.9484\n",
      "Epoch 23/60\n",
      "101/101 [==============================] - 2s 19ms/step - loss: 1.9216 - categorical_crossentropy: 1.9217 - val_loss: 1.9230 - val_categorical_crossentropy: 1.9229\n",
      "Epoch 24/60\n",
      "101/101 [==============================] - 2s 20ms/step - loss: 1.9233 - categorical_crossentropy: 1.9224 - val_loss: 1.9178 - val_categorical_crossentropy: 1.9178\n",
      "Epoch 25/60\n",
      "101/101 [==============================] - 2s 19ms/step - loss: 1.9177 - categorical_crossentropy: 1.9293 - val_loss: 1.9324 - val_categorical_crossentropy: 1.9326\n",
      "Epoch 26/60\n",
      "101/101 [==============================] - 2s 16ms/step - loss: 1.9283 - categorical_crossentropy: 1.9301 - val_loss: 1.9186 - val_categorical_crossentropy: 1.9185\n",
      "Epoch 27/60\n",
      "101/101 [==============================] - 2s 18ms/step - loss: 1.9168 - categorical_crossentropy: 1.9209 - val_loss: 1.9483 - val_categorical_crossentropy: 1.9481\n",
      "Epoch 28/60\n",
      "101/101 [==============================] - 2s 15ms/step - loss: 1.9204 - categorical_crossentropy: 1.9179 - val_loss: 1.9291 - val_categorical_crossentropy: 1.9290\n",
      "Epoch 29/60\n",
      "101/101 [==============================] - 1s 14ms/step - loss: 1.9151 - categorical_crossentropy: 1.9276 - val_loss: 1.9378 - val_categorical_crossentropy: 1.9377\n",
      "Epoch 30/60\n",
      "101/101 [==============================] - 1s 14ms/step - loss: 1.9243 - categorical_crossentropy: 1.9285 - val_loss: 1.9198 - val_categorical_crossentropy: 1.9199\n",
      "Epoch 31/60\n",
      "101/101 [==============================] - 2s 16ms/step - loss: 1.9135 - categorical_crossentropy: 1.9172 - val_loss: 1.9232 - val_categorical_crossentropy: 1.9231\n",
      "Epoch 32/60\n",
      "101/101 [==============================] - 2s 15ms/step - loss: 1.9202 - categorical_crossentropy: 1.9201 - val_loss: 1.9243 - val_categorical_crossentropy: 1.9241\n",
      "Epoch 33/60\n",
      "101/101 [==============================] - 2s 16ms/step - loss: 1.9159 - categorical_crossentropy: 1.9330 - val_loss: 1.9157 - val_categorical_crossentropy: 1.9156\n",
      "Epoch 34/60\n",
      "101/101 [==============================] - 2s 17ms/step - loss: 1.9137 - categorical_crossentropy: 1.9278 - val_loss: 1.9126 - val_categorical_crossentropy: 1.9125\n",
      "Epoch 35/60\n",
      "101/101 [==============================] - 2s 20ms/step - loss: 1.9120 - categorical_crossentropy: 1.9139 - val_loss: 1.9123 - val_categorical_crossentropy: 1.9125\n",
      "Epoch 36/60\n",
      "101/101 [==============================] - 2s 20ms/step - loss: 1.9101 - categorical_crossentropy: 1.9203 - val_loss: 1.9244 - val_categorical_crossentropy: 1.9243\n",
      "Epoch 37/60\n",
      "101/101 [==============================] - 2s 20ms/step - loss: 1.9194 - categorical_crossentropy: 1.9204 - val_loss: 1.9144 - val_categorical_crossentropy: 1.9144\n",
      "Epoch 38/60\n",
      "101/101 [==============================] - 2s 17ms/step - loss: 1.9122 - categorical_crossentropy: 1.9248 - val_loss: 1.9089 - val_categorical_crossentropy: 1.9089\n",
      "Epoch 39/60\n",
      "101/101 [==============================] - 2s 17ms/step - loss: 1.9110 - categorical_crossentropy: 1.9217 - val_loss: 1.9287 - val_categorical_crossentropy: 1.9286\n",
      "Epoch 40/60\n",
      "101/101 [==============================] - 2s 19ms/step - loss: 1.9171 - categorical_crossentropy: 1.9196 - val_loss: 1.9126 - val_categorical_crossentropy: 1.9126\n",
      "Epoch 41/60\n",
      "101/101 [==============================] - 2s 17ms/step - loss: 1.9102 - categorical_crossentropy: 1.9078 - val_loss: 1.9060 - val_categorical_crossentropy: 1.9061\n",
      "Epoch 42/60\n",
      "101/101 [==============================] - 2s 17ms/step - loss: 1.9062 - categorical_crossentropy: 1.9014 - val_loss: 1.9044 - val_categorical_crossentropy: 1.9045\n",
      "Epoch 43/60\n",
      "101/101 [==============================] - 2s 16ms/step - loss: 1.9045 - categorical_crossentropy: 1.9071 - val_loss: 1.9129 - val_categorical_crossentropy: 1.9129\n",
      "Epoch 44/60\n",
      "101/101 [==============================] - 2s 16ms/step - loss: 1.9093 - categorical_crossentropy: 1.9319 - val_loss: 1.9155 - val_categorical_crossentropy: 1.9157\n",
      "Epoch 45/60\n",
      "101/101 [==============================] - 2s 17ms/step - loss: 1.9083 - categorical_crossentropy: 1.9169 - val_loss: 1.9084 - val_categorical_crossentropy: 1.9084\n",
      "Epoch 46/60\n",
      "101/101 [==============================] - 2s 16ms/step - loss: 1.9069 - categorical_crossentropy: 1.9093 - val_loss: 1.9181 - val_categorical_crossentropy: 1.9182\n",
      "Epoch 47/60\n",
      "101/101 [==============================] - 2s 17ms/step - loss: 1.9089 - categorical_crossentropy: 1.9166 - val_loss: 1.9120 - val_categorical_crossentropy: 1.9119\n",
      "Epoch 48/60\n",
      "101/101 [==============================] - 2s 17ms/step - loss: 1.9090 - categorical_crossentropy: 1.9110 - val_loss: 1.9043 - val_categorical_crossentropy: 1.9042\n",
      "Epoch 49/60\n",
      "101/101 [==============================] - 2s 16ms/step - loss: 1.9052 - categorical_crossentropy: 1.9039 - val_loss: 1.9130 - val_categorical_crossentropy: 1.9132\n",
      "Epoch 50/60\n",
      "101/101 [==============================] - 2s 19ms/step - loss: 1.9061 - categorical_crossentropy: 1.9117 - val_loss: 1.9073 - val_categorical_crossentropy: 1.9073\n",
      "Epoch 51/60\n",
      "101/101 [==============================] - 2s 19ms/step - loss: 1.9043 - categorical_crossentropy: 1.9177 - val_loss: 1.9229 - val_categorical_crossentropy: 1.9229\n",
      "Epoch 52/60\n",
      "101/101 [==============================] - 2s 20ms/step - loss: 1.9087 - categorical_crossentropy: 1.9047 - val_loss: 1.9100 - val_categorical_crossentropy: 1.9099\n",
      "Epoch 53/60\n",
      "101/101 [==============================] - 2s 18ms/step - loss: 1.9016 - categorical_crossentropy: 1.9004 - val_loss: 1.9025 - val_categorical_crossentropy: 1.9025\n",
      "Epoch 54/60\n",
      "101/101 [==============================] - 2s 18ms/step - loss: 1.9002 - categorical_crossentropy: 1.9004 - val_loss: 1.9114 - val_categorical_crossentropy: 1.9111\n",
      "Epoch 55/60\n",
      "101/101 [==============================] - 2s 19ms/step - loss: 1.9080 - categorical_crossentropy: 1.9077 - val_loss: 1.9108 - val_categorical_crossentropy: 1.9106\n",
      "Epoch 56/60\n",
      "101/101 [==============================] - 2s 19ms/step - loss: 1.9061 - categorical_crossentropy: 1.9199 - val_loss: 1.9111 - val_categorical_crossentropy: 1.9111\n",
      "Epoch 57/60\n",
      "101/101 [==============================] - 2s 18ms/step - loss: 1.9055 - categorical_crossentropy: 1.9065 - val_loss: 1.9110 - val_categorical_crossentropy: 1.9110\n",
      "Epoch 58/60\n",
      "101/101 [==============================] - 2s 17ms/step - loss: 1.9045 - categorical_crossentropy: 1.9161 - val_loss: 1.9022 - val_categorical_crossentropy: 1.9022\n",
      "Epoch 59/60\n",
      "101/101 [==============================] - 2s 18ms/step - loss: 1.9041 - categorical_crossentropy: 1.9050 - val_loss: 1.9007 - val_categorical_crossentropy: 1.9006\n",
      "Epoch 60/60\n",
      "101/101 [==============================] - 2s 16ms/step - loss: 1.9016 - categorical_crossentropy: 1.9089 - val_loss: 1.9065 - val_categorical_crossentropy: 1.9064\n"
     ]
    }
   ],
   "source": [
    "history=model.fit(x_train,t_train,batch_size=x_train.shape[0]//100,epochs=60,validation_data=(x_val,t_val))"
   ]
  },
  {
   "cell_type": "code",
   "execution_count": 6,
   "metadata": {},
   "outputs": [
    {
     "output_type": "execute_result",
     "data": {
      "text/plain": [
       "[<matplotlib.lines.Line2D at 0x7fd098cbfa60>]"
      ]
     },
     "metadata": {},
     "execution_count": 6
    },
    {
     "output_type": "display_data",
     "data": {
      "text/plain": "<Figure size 432x288 with 1 Axes>",
      "image/svg+xml": "<?xml version=\"1.0\" encoding=\"utf-8\" standalone=\"no\"?>\n<!DOCTYPE svg PUBLIC \"-//W3C//DTD SVG 1.1//EN\"\n  \"http://www.w3.org/Graphics/SVG/1.1/DTD/svg11.dtd\">\n<!-- Created with matplotlib (https://matplotlib.org/) -->\n<svg height=\"248.518125pt\" version=\"1.1\" viewBox=\"0 0 372.103125 248.518125\" width=\"372.103125pt\" xmlns=\"http://www.w3.org/2000/svg\" xmlns:xlink=\"http://www.w3.org/1999/xlink\">\n <defs>\n  <style type=\"text/css\">\n*{stroke-linecap:butt;stroke-linejoin:round;}\n  </style>\n </defs>\n <g id=\"figure_1\">\n  <g id=\"patch_1\">\n   <path d=\"M 0 248.518125 \nL 372.103125 248.518125 \nL 372.103125 0 \nL 0 0 \nz\n\" style=\"fill:none;\"/>\n  </g>\n  <g id=\"axes_1\">\n   <g id=\"patch_2\">\n    <path d=\"M 30.103125 224.64 \nL 364.903125 224.64 \nL 364.903125 7.2 \nL 30.103125 7.2 \nz\n\" style=\"fill:#ffffff;\"/>\n   </g>\n   <g id=\"matplotlib.axis_1\">\n    <g id=\"xtick_1\">\n     <g id=\"line2d_1\">\n      <defs>\n       <path d=\"M 0 0 \nL 0 3.5 \n\" id=\"mea5a6174cc\" style=\"stroke:#000000;stroke-width:0.8;\"/>\n      </defs>\n      <g>\n       <use style=\"stroke:#000000;stroke-width:0.8;\" x=\"45.321307\" xlink:href=\"#mea5a6174cc\" y=\"224.64\"/>\n      </g>\n     </g>\n     <g id=\"text_1\">\n      <!-- 0 -->\n      <defs>\n       <path d=\"M 31.78125 66.40625 \nQ 24.171875 66.40625 20.328125 58.90625 \nQ 16.5 51.421875 16.5 36.375 \nQ 16.5 21.390625 20.328125 13.890625 \nQ 24.171875 6.390625 31.78125 6.390625 \nQ 39.453125 6.390625 43.28125 13.890625 \nQ 47.125 21.390625 47.125 36.375 \nQ 47.125 51.421875 43.28125 58.90625 \nQ 39.453125 66.40625 31.78125 66.40625 \nz\nM 31.78125 74.21875 \nQ 44.046875 74.21875 50.515625 64.515625 \nQ 56.984375 54.828125 56.984375 36.375 \nQ 56.984375 17.96875 50.515625 8.265625 \nQ 44.046875 -1.421875 31.78125 -1.421875 \nQ 19.53125 -1.421875 13.0625 8.265625 \nQ 6.59375 17.96875 6.59375 36.375 \nQ 6.59375 54.828125 13.0625 64.515625 \nQ 19.53125 74.21875 31.78125 74.21875 \nz\n\" id=\"DejaVuSans-48\"/>\n      </defs>\n      <g transform=\"translate(42.140057 239.238438)scale(0.1 -0.1)\">\n       <use xlink:href=\"#DejaVuSans-48\"/>\n      </g>\n     </g>\n    </g>\n    <g id=\"xtick_2\">\n     <g id=\"line2d_2\">\n      <g>\n       <use style=\"stroke:#000000;stroke-width:0.8;\" x=\"96.908364\" xlink:href=\"#mea5a6174cc\" y=\"224.64\"/>\n      </g>\n     </g>\n     <g id=\"text_2\">\n      <!-- 10 -->\n      <defs>\n       <path d=\"M 12.40625 8.296875 \nL 28.515625 8.296875 \nL 28.515625 63.921875 \nL 10.984375 60.40625 \nL 10.984375 69.390625 \nL 28.421875 72.90625 \nL 38.28125 72.90625 \nL 38.28125 8.296875 \nL 54.390625 8.296875 \nL 54.390625 0 \nL 12.40625 0 \nz\n\" id=\"DejaVuSans-49\"/>\n      </defs>\n      <g transform=\"translate(90.545864 239.238438)scale(0.1 -0.1)\">\n       <use xlink:href=\"#DejaVuSans-49\"/>\n       <use x=\"63.623047\" xlink:href=\"#DejaVuSans-48\"/>\n      </g>\n     </g>\n    </g>\n    <g id=\"xtick_3\">\n     <g id=\"line2d_3\">\n      <g>\n       <use style=\"stroke:#000000;stroke-width:0.8;\" x=\"148.495421\" xlink:href=\"#mea5a6174cc\" y=\"224.64\"/>\n      </g>\n     </g>\n     <g id=\"text_3\">\n      <!-- 20 -->\n      <defs>\n       <path d=\"M 19.1875 8.296875 \nL 53.609375 8.296875 \nL 53.609375 0 \nL 7.328125 0 \nL 7.328125 8.296875 \nQ 12.9375 14.109375 22.625 23.890625 \nQ 32.328125 33.6875 34.8125 36.53125 \nQ 39.546875 41.84375 41.421875 45.53125 \nQ 43.3125 49.21875 43.3125 52.78125 \nQ 43.3125 58.59375 39.234375 62.25 \nQ 35.15625 65.921875 28.609375 65.921875 \nQ 23.96875 65.921875 18.8125 64.3125 \nQ 13.671875 62.703125 7.8125 59.421875 \nL 7.8125 69.390625 \nQ 13.765625 71.78125 18.9375 73 \nQ 24.125 74.21875 28.421875 74.21875 \nQ 39.75 74.21875 46.484375 68.546875 \nQ 53.21875 62.890625 53.21875 53.421875 \nQ 53.21875 48.921875 51.53125 44.890625 \nQ 49.859375 40.875 45.40625 35.40625 \nQ 44.1875 33.984375 37.640625 27.21875 \nQ 31.109375 20.453125 19.1875 8.296875 \nz\n\" id=\"DejaVuSans-50\"/>\n      </defs>\n      <g transform=\"translate(142.132921 239.238438)scale(0.1 -0.1)\">\n       <use xlink:href=\"#DejaVuSans-50\"/>\n       <use x=\"63.623047\" xlink:href=\"#DejaVuSans-48\"/>\n      </g>\n     </g>\n    </g>\n    <g id=\"xtick_4\">\n     <g id=\"line2d_4\">\n      <g>\n       <use style=\"stroke:#000000;stroke-width:0.8;\" x=\"200.082478\" xlink:href=\"#mea5a6174cc\" y=\"224.64\"/>\n      </g>\n     </g>\n     <g id=\"text_4\">\n      <!-- 30 -->\n      <defs>\n       <path d=\"M 40.578125 39.3125 \nQ 47.65625 37.796875 51.625 33 \nQ 55.609375 28.21875 55.609375 21.1875 \nQ 55.609375 10.40625 48.1875 4.484375 \nQ 40.765625 -1.421875 27.09375 -1.421875 \nQ 22.515625 -1.421875 17.65625 -0.515625 \nQ 12.796875 0.390625 7.625 2.203125 \nL 7.625 11.71875 \nQ 11.71875 9.328125 16.59375 8.109375 \nQ 21.484375 6.890625 26.8125 6.890625 \nQ 36.078125 6.890625 40.9375 10.546875 \nQ 45.796875 14.203125 45.796875 21.1875 \nQ 45.796875 27.640625 41.28125 31.265625 \nQ 36.765625 34.90625 28.71875 34.90625 \nL 20.21875 34.90625 \nL 20.21875 43.015625 \nL 29.109375 43.015625 \nQ 36.375 43.015625 40.234375 45.921875 \nQ 44.09375 48.828125 44.09375 54.296875 \nQ 44.09375 59.90625 40.109375 62.90625 \nQ 36.140625 65.921875 28.71875 65.921875 \nQ 24.65625 65.921875 20.015625 65.03125 \nQ 15.375 64.15625 9.8125 62.3125 \nL 9.8125 71.09375 \nQ 15.4375 72.65625 20.34375 73.4375 \nQ 25.25 74.21875 29.59375 74.21875 \nQ 40.828125 74.21875 47.359375 69.109375 \nQ 53.90625 64.015625 53.90625 55.328125 \nQ 53.90625 49.265625 50.4375 45.09375 \nQ 46.96875 40.921875 40.578125 39.3125 \nz\n\" id=\"DejaVuSans-51\"/>\n      </defs>\n      <g transform=\"translate(193.719978 239.238438)scale(0.1 -0.1)\">\n       <use xlink:href=\"#DejaVuSans-51\"/>\n       <use x=\"63.623047\" xlink:href=\"#DejaVuSans-48\"/>\n      </g>\n     </g>\n    </g>\n    <g id=\"xtick_5\">\n     <g id=\"line2d_5\">\n      <g>\n       <use style=\"stroke:#000000;stroke-width:0.8;\" x=\"251.669535\" xlink:href=\"#mea5a6174cc\" y=\"224.64\"/>\n      </g>\n     </g>\n     <g id=\"text_5\">\n      <!-- 40 -->\n      <defs>\n       <path d=\"M 37.796875 64.3125 \nL 12.890625 25.390625 \nL 37.796875 25.390625 \nz\nM 35.203125 72.90625 \nL 47.609375 72.90625 \nL 47.609375 25.390625 \nL 58.015625 25.390625 \nL 58.015625 17.1875 \nL 47.609375 17.1875 \nL 47.609375 0 \nL 37.796875 0 \nL 37.796875 17.1875 \nL 4.890625 17.1875 \nL 4.890625 26.703125 \nz\n\" id=\"DejaVuSans-52\"/>\n      </defs>\n      <g transform=\"translate(245.307035 239.238438)scale(0.1 -0.1)\">\n       <use xlink:href=\"#DejaVuSans-52\"/>\n       <use x=\"63.623047\" xlink:href=\"#DejaVuSans-48\"/>\n      </g>\n     </g>\n    </g>\n    <g id=\"xtick_6\">\n     <g id=\"line2d_6\">\n      <g>\n       <use style=\"stroke:#000000;stroke-width:0.8;\" x=\"303.256592\" xlink:href=\"#mea5a6174cc\" y=\"224.64\"/>\n      </g>\n     </g>\n     <g id=\"text_6\">\n      <!-- 50 -->\n      <defs>\n       <path d=\"M 10.796875 72.90625 \nL 49.515625 72.90625 \nL 49.515625 64.59375 \nL 19.828125 64.59375 \nL 19.828125 46.734375 \nQ 21.96875 47.46875 24.109375 47.828125 \nQ 26.265625 48.1875 28.421875 48.1875 \nQ 40.625 48.1875 47.75 41.5 \nQ 54.890625 34.8125 54.890625 23.390625 \nQ 54.890625 11.625 47.5625 5.09375 \nQ 40.234375 -1.421875 26.90625 -1.421875 \nQ 22.3125 -1.421875 17.546875 -0.640625 \nQ 12.796875 0.140625 7.71875 1.703125 \nL 7.71875 11.625 \nQ 12.109375 9.234375 16.796875 8.0625 \nQ 21.484375 6.890625 26.703125 6.890625 \nQ 35.15625 6.890625 40.078125 11.328125 \nQ 45.015625 15.765625 45.015625 23.390625 \nQ 45.015625 31 40.078125 35.4375 \nQ 35.15625 39.890625 26.703125 39.890625 \nQ 22.75 39.890625 18.8125 39.015625 \nQ 14.890625 38.140625 10.796875 36.28125 \nz\n\" id=\"DejaVuSans-53\"/>\n      </defs>\n      <g transform=\"translate(296.894092 239.238438)scale(0.1 -0.1)\">\n       <use xlink:href=\"#DejaVuSans-53\"/>\n       <use x=\"63.623047\" xlink:href=\"#DejaVuSans-48\"/>\n      </g>\n     </g>\n    </g>\n    <g id=\"xtick_7\">\n     <g id=\"line2d_7\">\n      <g>\n       <use style=\"stroke:#000000;stroke-width:0.8;\" x=\"354.843649\" xlink:href=\"#mea5a6174cc\" y=\"224.64\"/>\n      </g>\n     </g>\n     <g id=\"text_7\">\n      <!-- 60 -->\n      <defs>\n       <path d=\"M 33.015625 40.375 \nQ 26.375 40.375 22.484375 35.828125 \nQ 18.609375 31.296875 18.609375 23.390625 \nQ 18.609375 15.53125 22.484375 10.953125 \nQ 26.375 6.390625 33.015625 6.390625 \nQ 39.65625 6.390625 43.53125 10.953125 \nQ 47.40625 15.53125 47.40625 23.390625 \nQ 47.40625 31.296875 43.53125 35.828125 \nQ 39.65625 40.375 33.015625 40.375 \nz\nM 52.59375 71.296875 \nL 52.59375 62.3125 \nQ 48.875 64.0625 45.09375 64.984375 \nQ 41.3125 65.921875 37.59375 65.921875 \nQ 27.828125 65.921875 22.671875 59.328125 \nQ 17.53125 52.734375 16.796875 39.40625 \nQ 19.671875 43.65625 24.015625 45.921875 \nQ 28.375 48.1875 33.59375 48.1875 \nQ 44.578125 48.1875 50.953125 41.515625 \nQ 57.328125 34.859375 57.328125 23.390625 \nQ 57.328125 12.15625 50.6875 5.359375 \nQ 44.046875 -1.421875 33.015625 -1.421875 \nQ 20.359375 -1.421875 13.671875 8.265625 \nQ 6.984375 17.96875 6.984375 36.375 \nQ 6.984375 53.65625 15.1875 63.9375 \nQ 23.390625 74.21875 37.203125 74.21875 \nQ 40.921875 74.21875 44.703125 73.484375 \nQ 48.484375 72.75 52.59375 71.296875 \nz\n\" id=\"DejaVuSans-54\"/>\n      </defs>\n      <g transform=\"translate(348.481149 239.238438)scale(0.1 -0.1)\">\n       <use xlink:href=\"#DejaVuSans-54\"/>\n       <use x=\"63.623047\" xlink:href=\"#DejaVuSans-48\"/>\n      </g>\n     </g>\n    </g>\n   </g>\n   <g id=\"matplotlib.axis_2\">\n    <g id=\"ytick_1\">\n     <g id=\"line2d_8\">\n      <defs>\n       <path d=\"M 0 0 \nL -3.5 0 \n\" id=\"m21ad88356b\" style=\"stroke:#000000;stroke-width:0.8;\"/>\n      </defs>\n      <g>\n       <use style=\"stroke:#000000;stroke-width:0.8;\" x=\"30.103125\" xlink:href=\"#m21ad88356b\" y=\"202.502009\"/>\n      </g>\n     </g>\n     <g id=\"text_8\">\n      <!-- 2.0 -->\n      <defs>\n       <path d=\"M 10.6875 12.40625 \nL 21 12.40625 \nL 21 0 \nL 10.6875 0 \nz\n\" id=\"DejaVuSans-46\"/>\n      </defs>\n      <g transform=\"translate(7.2 206.301228)scale(0.1 -0.1)\">\n       <use xlink:href=\"#DejaVuSans-50\"/>\n       <use x=\"63.623047\" xlink:href=\"#DejaVuSans-46\"/>\n       <use x=\"95.410156\" xlink:href=\"#DejaVuSans-48\"/>\n      </g>\n     </g>\n    </g>\n    <g id=\"ytick_2\">\n     <g id=\"line2d_9\">\n      <g>\n       <use style=\"stroke:#000000;stroke-width:0.8;\" x=\"30.103125\" xlink:href=\"#m21ad88356b\" y=\"177.952451\"/>\n      </g>\n     </g>\n     <g id=\"text_9\">\n      <!-- 2.2 -->\n      <g transform=\"translate(7.2 181.75167)scale(0.1 -0.1)\">\n       <use xlink:href=\"#DejaVuSans-50\"/>\n       <use x=\"63.623047\" xlink:href=\"#DejaVuSans-46\"/>\n       <use x=\"95.410156\" xlink:href=\"#DejaVuSans-50\"/>\n      </g>\n     </g>\n    </g>\n    <g id=\"ytick_3\">\n     <g id=\"line2d_10\">\n      <g>\n       <use style=\"stroke:#000000;stroke-width:0.8;\" x=\"30.103125\" xlink:href=\"#m21ad88356b\" y=\"153.402893\"/>\n      </g>\n     </g>\n     <g id=\"text_10\">\n      <!-- 2.4 -->\n      <g transform=\"translate(7.2 157.202112)scale(0.1 -0.1)\">\n       <use xlink:href=\"#DejaVuSans-50\"/>\n       <use x=\"63.623047\" xlink:href=\"#DejaVuSans-46\"/>\n       <use x=\"95.410156\" xlink:href=\"#DejaVuSans-52\"/>\n      </g>\n     </g>\n    </g>\n    <g id=\"ytick_4\">\n     <g id=\"line2d_11\">\n      <g>\n       <use style=\"stroke:#000000;stroke-width:0.8;\" x=\"30.103125\" xlink:href=\"#m21ad88356b\" y=\"128.853336\"/>\n      </g>\n     </g>\n     <g id=\"text_11\">\n      <!-- 2.6 -->\n      <g transform=\"translate(7.2 132.652554)scale(0.1 -0.1)\">\n       <use xlink:href=\"#DejaVuSans-50\"/>\n       <use x=\"63.623047\" xlink:href=\"#DejaVuSans-46\"/>\n       <use x=\"95.410156\" xlink:href=\"#DejaVuSans-54\"/>\n      </g>\n     </g>\n    </g>\n    <g id=\"ytick_5\">\n     <g id=\"line2d_12\">\n      <g>\n       <use style=\"stroke:#000000;stroke-width:0.8;\" x=\"30.103125\" xlink:href=\"#m21ad88356b\" y=\"104.303778\"/>\n      </g>\n     </g>\n     <g id=\"text_12\">\n      <!-- 2.8 -->\n      <defs>\n       <path d=\"M 31.78125 34.625 \nQ 24.75 34.625 20.71875 30.859375 \nQ 16.703125 27.09375 16.703125 20.515625 \nQ 16.703125 13.921875 20.71875 10.15625 \nQ 24.75 6.390625 31.78125 6.390625 \nQ 38.8125 6.390625 42.859375 10.171875 \nQ 46.921875 13.96875 46.921875 20.515625 \nQ 46.921875 27.09375 42.890625 30.859375 \nQ 38.875 34.625 31.78125 34.625 \nz\nM 21.921875 38.8125 \nQ 15.578125 40.375 12.03125 44.71875 \nQ 8.5 49.078125 8.5 55.328125 \nQ 8.5 64.0625 14.71875 69.140625 \nQ 20.953125 74.21875 31.78125 74.21875 \nQ 42.671875 74.21875 48.875 69.140625 \nQ 55.078125 64.0625 55.078125 55.328125 \nQ 55.078125 49.078125 51.53125 44.71875 \nQ 48 40.375 41.703125 38.8125 \nQ 48.828125 37.15625 52.796875 32.3125 \nQ 56.78125 27.484375 56.78125 20.515625 \nQ 56.78125 9.90625 50.3125 4.234375 \nQ 43.84375 -1.421875 31.78125 -1.421875 \nQ 19.734375 -1.421875 13.25 4.234375 \nQ 6.78125 9.90625 6.78125 20.515625 \nQ 6.78125 27.484375 10.78125 32.3125 \nQ 14.796875 37.15625 21.921875 38.8125 \nz\nM 18.3125 54.390625 \nQ 18.3125 48.734375 21.84375 45.5625 \nQ 25.390625 42.390625 31.78125 42.390625 \nQ 38.140625 42.390625 41.71875 45.5625 \nQ 45.3125 48.734375 45.3125 54.390625 \nQ 45.3125 60.0625 41.71875 63.234375 \nQ 38.140625 66.40625 31.78125 66.40625 \nQ 25.390625 66.40625 21.84375 63.234375 \nQ 18.3125 60.0625 18.3125 54.390625 \nz\n\" id=\"DejaVuSans-56\"/>\n      </defs>\n      <g transform=\"translate(7.2 108.102997)scale(0.1 -0.1)\">\n       <use xlink:href=\"#DejaVuSans-50\"/>\n       <use x=\"63.623047\" xlink:href=\"#DejaVuSans-46\"/>\n       <use x=\"95.410156\" xlink:href=\"#DejaVuSans-56\"/>\n      </g>\n     </g>\n    </g>\n    <g id=\"ytick_6\">\n     <g id=\"line2d_13\">\n      <g>\n       <use style=\"stroke:#000000;stroke-width:0.8;\" x=\"30.103125\" xlink:href=\"#m21ad88356b\" y=\"79.75422\"/>\n      </g>\n     </g>\n     <g id=\"text_13\">\n      <!-- 3.0 -->\n      <g transform=\"translate(7.2 83.553439)scale(0.1 -0.1)\">\n       <use xlink:href=\"#DejaVuSans-51\"/>\n       <use x=\"63.623047\" xlink:href=\"#DejaVuSans-46\"/>\n       <use x=\"95.410156\" xlink:href=\"#DejaVuSans-48\"/>\n      </g>\n     </g>\n    </g>\n    <g id=\"ytick_7\">\n     <g id=\"line2d_14\">\n      <g>\n       <use style=\"stroke:#000000;stroke-width:0.8;\" x=\"30.103125\" xlink:href=\"#m21ad88356b\" y=\"55.204662\"/>\n      </g>\n     </g>\n     <g id=\"text_14\">\n      <!-- 3.2 -->\n      <g transform=\"translate(7.2 59.003881)scale(0.1 -0.1)\">\n       <use xlink:href=\"#DejaVuSans-51\"/>\n       <use x=\"63.623047\" xlink:href=\"#DejaVuSans-46\"/>\n       <use x=\"95.410156\" xlink:href=\"#DejaVuSans-50\"/>\n      </g>\n     </g>\n    </g>\n    <g id=\"ytick_8\">\n     <g id=\"line2d_15\">\n      <g>\n       <use style=\"stroke:#000000;stroke-width:0.8;\" x=\"30.103125\" xlink:href=\"#m21ad88356b\" y=\"30.655105\"/>\n      </g>\n     </g>\n     <g id=\"text_15\">\n      <!-- 3.4 -->\n      <g transform=\"translate(7.2 34.454323)scale(0.1 -0.1)\">\n       <use xlink:href=\"#DejaVuSans-51\"/>\n       <use x=\"63.623047\" xlink:href=\"#DejaVuSans-46\"/>\n       <use x=\"95.410156\" xlink:href=\"#DejaVuSans-52\"/>\n      </g>\n     </g>\n    </g>\n   </g>\n   <g id=\"line2d_16\">\n    <path clip-path=\"url(#paaa35b92ee)\" d=\"M 45.321307 82.5025 \nL 50.480013 172.687286 \nL 55.638718 188.365351 \nL 60.797424 195.885844 \nL 65.95613 200.347552 \nL 71.114835 202.393581 \nL 76.273541 203.767282 \nL 81.432247 205.925675 \nL 86.590952 206.923975 \nL 91.749658 207.62109 \nL 96.908364 207.608842 \nL 102.06707 208.412133 \nL 107.225775 209.690531 \nL 112.384481 208.880276 \nL 117.543187 210.445723 \nL 122.701892 210.795561 \nL 127.860598 211.119061 \nL 133.019304 211.139195 \nL 138.178009 211.610543 \nL 143.336715 211.24417 \nL 148.495421 211.050477 \nL 153.654127 212.056401 \nL 158.812832 212.124326 \nL 163.971538 211.91221 \nL 169.130244 212.606223 \nL 174.288949 211.30254 \nL 179.447655 212.714344 \nL 184.606361 212.274881 \nL 189.765066 212.921309 \nL 194.923772 211.799041 \nL 200.082478 213.114094 \nL 205.241184 212.295572 \nL 210.399889 212.821309 \nL 215.558595 213.098364 \nL 220.717301 213.3023 \nL 225.876006 213.542437 \nL 231.034712 212.395923 \nL 236.193418 213.283702 \nL 241.352123 213.423605 \nL 246.510829 212.67586 \nL 251.669535 213.52738 \nL 256.828241 214.018496 \nL 261.986946 214.226866 \nL 267.145652 213.632574 \nL 272.304358 213.758737 \nL 277.463063 213.93231 \nL 282.621769 213.678696 \nL 287.780475 213.668848 \nL 292.93918 214.144469 \nL 298.097886 214.033656 \nL 303.256592 214.24321 \nL 308.415298 213.714619 \nL 313.574003 214.577304 \nL 318.732709 214.756364 \nL 323.891415 213.797689 \nL 329.05012 214.031344 \nL 334.208826 214.107258 \nL 339.367532 214.226192 \nL 344.526237 214.269286 \nL 349.684943 214.58143 \n\" style=\"fill:none;stroke:#1f77b4;stroke-linecap:square;stroke-width:1.5;\"/>\n   </g>\n   <g id=\"line2d_17\">\n    <path clip-path=\"url(#paaa35b92ee)\" d=\"M 45.321307 17.083636 \nL 50.480013 67.261514 \nL 55.638718 138.313929 \nL 60.797424 183.167092 \nL 65.95613 197.506618 \nL 71.114835 200.667832 \nL 76.273541 201.314538 \nL 81.432247 206.833413 \nL 86.590952 204.814133 \nL 91.749658 206.305173 \nL 96.908364 204.624581 \nL 102.06707 208.977671 \nL 107.225775 208.337506 \nL 112.384481 209.668684 \nL 117.543187 210.506683 \nL 122.701892 211.009433 \nL 127.860598 205.180535 \nL 133.019304 210.528383 \nL 138.178009 210.921768 \nL 143.336715 211.26906 \nL 148.495421 211.757894 \nL 153.654127 208.825447 \nL 158.812832 211.954586 \nL 163.971538 212.597224 \nL 169.130244 210.804356 \nL 174.288949 212.493493 \nL 179.447655 208.844762 \nL 184.606361 211.210339 \nL 189.765066 210.138671 \nL 194.923772 212.343304 \nL 200.082478 211.931862 \nL 205.241184 211.800065 \nL 210.399889 212.844136 \nL 215.558595 213.229751 \nL 220.717301 213.26525 \nL 225.876006 211.777882 \nL 231.034712 213.008154 \nL 236.193418 213.68215 \nL 241.352123 211.256886 \nL 246.510829 213.226664 \nL 251.669535 214.039494 \nL 256.828241 214.233904 \nL 261.986946 213.194062 \nL 267.145652 212.875026 \nL 272.304358 213.747894 \nL 277.463063 212.556341 \nL 282.621769 213.303163 \nL 287.780475 214.249415 \nL 292.93918 213.180088 \nL 298.097886 213.875901 \nL 303.256592 211.963644 \nL 308.415298 213.549387 \nL 313.574003 214.466798 \nL 318.732709 213.376678 \nL 323.891415 213.453075 \nL 329.05012 213.409162 \nL 334.208826 213.431682 \nL 339.367532 214.507155 \nL 344.526237 214.696955 \nL 349.684943 213.9819 \n\" style=\"fill:none;stroke:#ff7f0e;stroke-linecap:square;stroke-width:1.5;\"/>\n   </g>\n   <g id=\"patch_3\">\n    <path d=\"M 30.103125 224.64 \nL 30.103125 7.2 \n\" style=\"fill:none;stroke:#000000;stroke-linecap:square;stroke-linejoin:miter;stroke-width:0.8;\"/>\n   </g>\n   <g id=\"patch_4\">\n    <path d=\"M 364.903125 224.64 \nL 364.903125 7.2 \n\" style=\"fill:none;stroke:#000000;stroke-linecap:square;stroke-linejoin:miter;stroke-width:0.8;\"/>\n   </g>\n   <g id=\"patch_5\">\n    <path d=\"M 30.103125 224.64 \nL 364.903125 224.64 \n\" style=\"fill:none;stroke:#000000;stroke-linecap:square;stroke-linejoin:miter;stroke-width:0.8;\"/>\n   </g>\n   <g id=\"patch_6\">\n    <path d=\"M 30.103125 7.2 \nL 364.903125 7.2 \n\" style=\"fill:none;stroke:#000000;stroke-linecap:square;stroke-linejoin:miter;stroke-width:0.8;\"/>\n   </g>\n  </g>\n </g>\n <defs>\n  <clipPath id=\"paaa35b92ee\">\n   <rect height=\"217.44\" width=\"334.8\" x=\"30.103125\" y=\"7.2\"/>\n  </clipPath>\n </defs>\n</svg>\n",
      "image/png": "[encoded data removed]"
     },
     "metadata": {
      "needs_background": "light"
     }
    }
   ],
   "source": [
    "maximum=0\n",
    "plt.plot(history.history['loss'][maximum:])\n",
    "plt.plot(history.history['val_loss'][maximum:])"
   ]
  },
  {
   "cell_type": "code",
   "execution_count": 7,
   "metadata": {},
   "outputs": [
    {
     "output_type": "execute_result",
     "data": {
      "text/plain": [
       "array([17, 26, 30, ..., 28, 29, 24])"
      ]
     },
     "metadata": {},
     "execution_count": 7
    }
   ],
   "source": [
    "predicted_pre=model.predict(x_test)\n",
    "predicted=predicted_pre.argmax(axis=1)\n",
    "predicted"
   ]
  },
  {
   "cell_type": "code",
   "execution_count": 8,
   "metadata": {},
   "outputs": [
    {
     "output_type": "execute_result",
     "data": {
      "text/plain": [
       "array([15, 25, 29, ..., 28, 27, 25])"
      ]
     },
     "metadata": {},
     "execution_count": 8
    }
   ],
   "source": [
    "t_test.argmax(axis=1)"
   ]
  },
  {
   "cell_type": "code",
   "execution_count": 9,
   "metadata": {},
   "outputs": [
    {
     "output_type": "execute_result",
     "data": {
      "text/plain": [
       "0.865313037793994"
      ]
     },
     "metadata": {},
     "execution_count": 9
    }
   ],
   "source": [
    "(np.abs(predicted-t_test.argmax(axis=1))<=2).sum()/len(t_test)"
   ]
  },
  {
   "cell_type": "code",
   "execution_count": 10,
   "metadata": {},
   "outputs": [
    {
     "output_type": "execute_result",
     "data": {
      "text/plain": [
       "{-6: 10,\n",
       " -5: 72,\n",
       " -4: 607,\n",
       " -3: 3033,\n",
       " -2: 8262,\n",
       " -1: 14708,\n",
       " 0: 17943,\n",
       " 1: 14925,\n",
       " 2: 9025,\n",
       " 3: 4313,\n",
       " 4: 1517,\n",
       " 5: 392,\n",
       " 6: 116,\n",
       " 7: 26,\n",
       " 8: 6,\n",
       " 9: 1,\n",
       " 10: 1,\n",
       " 11: 2}"
      ]
     },
     "metadata": {},
     "execution_count": 10
    }
   ],
   "source": [
    "dict(zip(list(np.unique(predicted-t_test.argmax(axis=1),return_counts=True)[0]),list(np.unique(predicted-t_test.argmax(axis=1),return_counts=True)[1])))"
   ]
  },
  {
   "cell_type": "code",
   "execution_count": 15,
   "metadata": {},
   "outputs": [],
   "source": [
    "# model.save('model (DNN).h5')"
   ]
  },
  {
   "cell_type": "code",
   "execution_count": null,
   "metadata": {},
   "outputs": [],
   "source": []
  }
 ]
}